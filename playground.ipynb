{
 "cells": [
  {
   "cell_type": "code",
   "execution_count": 4,
   "metadata": {},
   "outputs": [
    {
     "data": {
      "text/plain": [
       "[False, True, False, False, False]"
      ]
     },
     "execution_count": 4,
     "metadata": {},
     "output_type": "execute_result"
    }
   ],
   "source": [
    "import torch\n",
    "\n",
    "lst = [torch.ones(1) for _ in range(5)]\n",
    "[itm is lst[1] for itm in lst]"
   ]
  },
  {
   "cell_type": "code",
   "execution_count": 5,
   "metadata": {},
   "outputs": [
    {
     "ename": "ValueError",
     "evalue": "False is not in list",
     "output_type": "error",
     "traceback": [
      "\u001b[0;31m---------------------------------------------------------------------------\u001b[0m",
      "\u001b[0;31mValueError\u001b[0m                                Traceback (most recent call last)",
      "Cell \u001b[0;32mIn[5], line 1\u001b[0m\n\u001b[0;32m----> 1\u001b[0m \u001b[43m[\u001b[49m\u001b[38;5;28;43;01mTrue\u001b[39;49;00m\u001b[43m,\u001b[49m\u001b[43m \u001b[49m\u001b[38;5;28;43;01mTrue\u001b[39;49;00m\u001b[43m,\u001b[49m\u001b[43m \u001b[49m\u001b[38;5;28;43;01mTrue\u001b[39;49;00m\u001b[43m]\u001b[49m\u001b[38;5;241;43m.\u001b[39;49m\u001b[43mindex\u001b[49m\u001b[43m(\u001b[49m\u001b[38;5;28;43;01mFalse\u001b[39;49;00m\u001b[43m)\u001b[49m\n",
      "\u001b[0;31mValueError\u001b[0m: False is not in list"
     ]
    }
   ],
   "source": [
    "[True, True, True].index(False)"
   ]
  },
  {
   "cell_type": "code",
   "execution_count": 7,
   "metadata": {},
   "outputs": [
    {
     "data": {
      "text/plain": [
       "6"
      ]
     },
     "execution_count": 7,
     "metadata": {},
     "output_type": "execute_result"
    }
   ],
   "source": [
    "import numpy as np\n",
    "np.prod(torch.ones((1,2,3)).shape)"
   ]
  },
  {
   "cell_type": "code",
   "execution_count": 8,
   "metadata": {},
   "outputs": [],
   "source": [
    "a,b,c,d = next(zip(range(5), range(5), range(5), range(5)))"
   ]
  },
  {
   "cell_type": "code",
   "execution_count": 12,
   "metadata": {},
   "outputs": [
    {
     "name": "stdout",
     "output_type": "stream",
     "text": [
      "[tensor([2.]), tensor([2.]), tensor([2.]), tensor([2.]), tensor([2.])] [tensor([2.]), tensor([2.]), tensor([2.]), tensor([2.]), tensor([2.])]\n"
     ]
    }
   ],
   "source": [
    "import torch\n",
    "a = [torch.ones(1) for _ in range(5)]\n",
    "b = [torch.ones(1) for _ in range(5)]\n",
    "for a_, b_ in zip(a,b):\n",
    "    a_+=1\n",
    "    b_+=1\n",
    "print(a,b)"
   ]
  },
  {
   "cell_type": "code",
   "execution_count": 15,
   "metadata": {},
   "outputs": [
    {
     "data": {
      "text/plain": [
       "tensor(2.)"
      ]
     },
     "execution_count": 15,
     "metadata": {},
     "output_type": "execute_result"
    }
   ],
   "source": [
    "torch.max(a[0])"
   ]
  },
  {
   "cell_type": "code",
   "execution_count": 13,
   "metadata": {},
   "outputs": [
    {
     "data": {
      "text/plain": [
       "<matplotlib.image.AxesImage at 0x7fb26c2fd6a0>"
      ]
     },
     "execution_count": 13,
     "metadata": {},
     "output_type": "execute_result"
    },
    {
     "data": {
      "image/png": "[encoded data removed]",
      "text/plain": [
       "<Figure size 640x480 with 1 Axes>"
      ]
     },
     "metadata": {},
     "output_type": "display_data"
    }
   ],
   "source": [
    "import torch\n",
    "import matplotlib.pyplot as plt\n",
    "\n",
    "def crop_fn(x, batch=True):\n",
    "        from numpy.random import randint\n",
    "        from torch import from_numpy, meshgrid, clamp, arange\n",
    "        from torch.nn.functional import pad\n",
    "        from torch import long as torchlong\n",
    "        # The image is padded on its surrounding and then cropped.\n",
    "        ratio = 0.9\n",
    "\n",
    "        shift_x, shift_y = int(x.size(2) * ratio + 0.5), int(x.size(3) * ratio + 0.5)\n",
    "        if batch:\n",
    "            translation_x = randint(-shift_x, shift_x + 1)\n",
    "            translation_y = randint(-shift_y, shift_y + 1)\n",
    "        else:\n",
    "            translation_x = from_numpy(randint(-shift_x, shift_x+1, (x.size(0), 1, 1))).to(x.device)\n",
    "            # translation_x = torch.randint(-shift_x,\n",
    "            #                               shift_x + 1,\n",
    "            #                               size=[x.size(0), 1, 1],\n",
    "            #                               device=x.device)\n",
    "\n",
    "            translation_y = from_numpy(randint(-shift_y, shift_y+1, (x.size(0), 1, 1))).to(x.device)\n",
    "            # translation_y = torch.randint(-shift_y,\n",
    "            #                               shift_y + 1,\n",
    "            #                               size=[x.size(0), 1, 1],\n",
    "            #                               device=x.device)\n",
    "\n",
    "        grid_batch, grid_x, grid_y = meshgrid(\n",
    "            arange(x.size(0), dtype=torchlong, device=x.device),\n",
    "            arange(x.size(2), dtype=torchlong, device=x.device),\n",
    "            arange(x.size(3), dtype=torchlong, device=x.device),\n",
    "        )\n",
    "        grid_x = clamp(grid_x + translation_x + 1, 0, x.size(2) + 1)\n",
    "        grid_y = clamp(grid_y + translation_y + 1, 0, x.size(3) + 1)\n",
    "        x_pad = pad(x, (1, 1, 1, 1))\n",
    "        x = x_pad.permute(0, 2, 3, 1).contiguous()[grid_batch, grid_x, grid_y].permute(0, 3, 1, 2)\n",
    "        return x\n",
    "\n",
    "test_img = torch.rand((1,3,32,32))\n",
    "test_crop = crop_fn(test_img)\n",
    "show_tsr = torch.cat([test_img, test_crop], dim=2)\n",
    "plt.imshow(show_tsr.squeeze(0).permute(1,2,0).numpy())\n"
   ]
  },
  {
   "cell_type": "code",
   "execution_count": 19,
   "metadata": {},
   "outputs": [
    {
     "data": {
      "text/plain": [
       "<matplotlib.image.AxesImage at 0x7fb264baa040>"
      ]
     },
     "execution_count": 19,
     "metadata": {},
     "output_type": "execute_result"
    },
    {
     "data": {
      "image/png": "[encoded data removed]",
      "text/plain": [
       "<Figure size 640x480 with 1 Axes>"
      ]
     },
     "metadata": {},
     "output_type": "display_data"
    }
   ],
   "source": [
    "from torchvision.transforms.functional import crop\n",
    "\n",
    "test_img = torch.rand((2,3,32,32))\n",
    "plt.imshow(test_img[0].squeeze(0).permute(1,2,0).numpy())\n",
    "\n"
   ]
  },
  {
   "cell_type": "code",
   "execution_count": 20,
   "metadata": {},
   "outputs": [
    {
     "data": {
      "text/plain": [
       "<matplotlib.image.AxesImage at 0x7fb264b289d0>"
      ]
     },
     "execution_count": 20,
     "metadata": {},
     "output_type": "execute_result"
    },
    {
     "data": {
      "image/png": "[encoded data removed]",
      "text/plain": [
       "<Figure size 640x480 with 1 Axes>"
      ]
     },
     "metadata": {},
     "output_type": "display_data"
    }
   ],
   "source": [
    "plt.imshow(crop(test_img, 0, 0, 16, 16)[0].squeeze(0).permute(1,2,0).numpy())"
   ]
  },
  {
   "cell_type": "code",
   "execution_count": 35,
   "metadata": {},
   "outputs": [
    {
     "name": "stdout",
     "output_type": "stream",
     "text": [
      "candi_itvs:  [  1  40  79 118 161]\n"
     ]
    },
    {
     "data": {
      "text/plain": [
       "[34, 71, 105, 147, 184]"
      ]
     },
     "execution_count": 35,
     "metadata": {},
     "output_type": "execute_result"
    }
   ],
   "source": [
    "def cand_steps(min_steps, num_forward, num_backward, num_interval):\n",
    "    from numpy import arange\n",
    "    from numpy.random import randint\n",
    "    min_steps = max(min_steps, num_forward-num_backward)\n",
    "    max_steps = num_forward\n",
    "    full_interval = max_steps-min_steps\n",
    "    if full_interval<num_interval:\n",
    "        raise AssertionError(\"meta loss can be computed in interval {} to {}, this interval is shorter than {}!\".format(min_steps, max_steps, num_interval))\n",
    "    interval = full_interval//num_interval\n",
    "    if full_interval%num_interval==0:\n",
    "        candi_itvs = arange(min_steps, max_steps, interval)\n",
    "    else:\n",
    "        candi_itvs = arange(min_steps, min_steps+interval*num_interval, interval)\n",
    "        candi_itvs[-1] = max_steps-interval\n",
    "    print('candi_itvs: ', candi_itvs)\n",
    "    candi_itvs += randint(0, interval, num_interval)\n",
    "    candi_itvs = list(candi_itvs)\n",
    "    return candi_itvs\n",
    "\n",
    "cand_steps(1,200,200,5)\n"
   ]
  },
  {
   "cell_type": "code",
   "execution_count": 24,
   "metadata": {},
   "outputs": [
    {
     "name": "stdout",
     "output_type": "stream",
     "text": [
      "[ 65  98 126 165 200]\n",
      "[ 78 106 126 166 200]\n",
      "[ 82 110 129 150 200]\n",
      "[ 72  88 127 149 200]\n",
      "[ 69  94 133 163 200]\n",
      "[ 61 105 132 152 200]\n",
      "[ 62 109 128 166 200]\n",
      "[ 85 114 130 168 200]\n",
      "[ 61  88 143 150 200]\n",
      "[ 65 109 122 168 200]\n"
     ]
    }
   ],
   "source": [
    "for _ in range(10):\n",
    "    print(cand_steps(60,200,200,5))"
   ]
  },
  {
   "cell_type": "code",
   "execution_count": 27,
   "metadata": {},
   "outputs": [
    {
     "ename": "ZeroDivisionError",
     "evalue": "integer division or modulo by zero",
     "output_type": "error",
     "traceback": [
      "\u001b[0;31m---------------------------------------------------------------------------\u001b[0m",
      "\u001b[0;31mZeroDivisionError\u001b[0m                         Traceback (most recent call last)",
      "Cell \u001b[0;32mIn[27], line 1\u001b[0m\n\u001b[0;32m----> 1\u001b[0m \u001b[43mcand_steps\u001b[49m\u001b[43m(\u001b[49m\u001b[38;5;241;43m60\u001b[39;49m\u001b[43m,\u001b[49m\u001b[38;5;241;43m200\u001b[39;49m\u001b[43m,\u001b[49m\u001b[38;5;241;43m200\u001b[39;49m\u001b[43m,\u001b[49m\u001b[38;5;241;43m0\u001b[39;49m\u001b[43m)\u001b[49m\n",
      "Cell \u001b[0;32mIn[26], line 9\u001b[0m, in \u001b[0;36mcand_steps\u001b[0;34m(min_steps, num_forward, num_backward, num_interval)\u001b[0m\n\u001b[1;32m      7\u001b[0m \u001b[38;5;28;01mif\u001b[39;00m full_interval\u001b[38;5;241m<\u001b[39mnum_interval:\n\u001b[1;32m      8\u001b[0m     \u001b[38;5;28;01mraise\u001b[39;00m \u001b[38;5;167;01mAssertionError\u001b[39;00m(\u001b[38;5;124m\"\u001b[39m\u001b[38;5;124mmeta loss can be computed in interval \u001b[39m\u001b[38;5;132;01m{}\u001b[39;00m\u001b[38;5;124m to \u001b[39m\u001b[38;5;132;01m{}\u001b[39;00m\u001b[38;5;124m, this interval is shorter than \u001b[39m\u001b[38;5;132;01m{}\u001b[39;00m\u001b[38;5;124m!\u001b[39m\u001b[38;5;124m\"\u001b[39m\u001b[38;5;241m.\u001b[39mformat(min_steps, max_steps, num_interval))\n\u001b[0;32m----> 9\u001b[0m interval \u001b[38;5;241m=\u001b[39m \u001b[43mfull_interval\u001b[49m\u001b[38;5;241;43m/\u001b[39;49m\u001b[38;5;241;43m/\u001b[39;49m\u001b[43mnum_interval\u001b[49m\n\u001b[1;32m     10\u001b[0m candi_itvs \u001b[38;5;241m=\u001b[39m arange(min_steps, max_steps, interval)\n\u001b[1;32m     11\u001b[0m \u001b[38;5;28mprint\u001b[39m(\u001b[38;5;124m'\u001b[39m\u001b[38;5;124mcandi_itvs: \u001b[39m\u001b[38;5;124m'\u001b[39m, candi_itvs)\n",
      "\u001b[0;31mZeroDivisionError\u001b[0m: integer division or modulo by zero"
     ]
    }
   ],
   "source": [
    "cand_steps(60,200,200,0)"
   ]
  },
  {
   "cell_type": "code",
   "execution_count": 5,
   "metadata": {},
   "outputs": [
    {
     "name": "stdout",
     "output_type": "stream",
     "text": [
      "cuda:  cuda:0\n",
      "cuda:  cpu\n",
      "cpu:  cpu\n"
     ]
    }
   ],
   "source": [
    "from models.convnet import convnet3\n",
    "from torch.optim import Adam\n",
    "\n",
    "model = convnet3().to('cuda')\n",
    "cuda_lst = list(model.parameters())\n",
    "print('cuda: ', cuda_lst[0].device)\n",
    "model.to('cpu')\n",
    "cpu_lst = list(model.parameters())\n",
    "print('cuda: ', cuda_lst[0].device)\n",
    "print('cpu: ', cpu_lst[0].device)"
   ]
  },
  {
   "cell_type": "code",
   "execution_count": 3,
   "metadata": {},
   "outputs": [
    {
     "data": {
      "text/plain": [
       "torch.nn.parameter.Parameter"
      ]
     },
     "execution_count": 3,
     "metadata": {},
     "output_type": "execute_result"
    }
   ],
   "source": [
    "tsr = torch.ones(1)\n",
    "tsr.backward"
   ]
  },
  {
   "cell_type": "code",
   "execution_count": 4,
   "metadata": {},
   "outputs": [
    {
     "data": {
      "text/plain": [
       "device(type='cpu')"
      ]
     },
     "execution_count": 4,
     "metadata": {},
     "output_type": "execute_result"
    }
   ],
   "source": []
  },
  {
   "cell_type": "code",
   "execution_count": 11,
   "metadata": {},
   "outputs": [
    {
     "name": "stdout",
     "output_type": "stream",
     "text": [
      "list tensor took 7.333452224731445\n",
      "flat tensor took 5.742737293243408\n"
     ]
    }
   ],
   "source": [
    "import torch\n",
    "from time import time\n",
    "a = [torch.ones(5,5).to('cuda') for _ in range(100)]\n",
    "b = torch.cat([ele.flatten() for ele in a])\n",
    "tm = time()\n",
    "\n",
    "tm = time()\n",
    "for _ in range(10000):\n",
    "    for ele in a:\n",
    "        ele.add_(1.)\n",
    "tm = time()-tm\n",
    "print('list tensor took {}'.format(tm))\n",
    "\n",
    "tm = time()\n",
    "for _ in range(10000):\n",
    "    a_lst = [b[25*idx:(idx+1)*25].view((5,5)) for idx in range(100)]\n",
    "    b.add_(1.)\n",
    "tm = time()-tm\n",
    "print('flat tensor took {}'.format(tm))\n",
    "\n"
   ]
  },
  {
   "cell_type": "code",
   "execution_count": 4,
   "metadata": {},
   "outputs": [],
   "source": [
    "import torch\n",
    "import torch.jit\n",
    "\n",
    "@torch.jit.script\n",
    "def inplace_add(a,b):\n",
    "    a.add_(b)\n",
    "    return None\n",
    "\n",
    "a = torch.ones(1)\n",
    "inplace_add(a, torch.ones(1)*10)"
   ]
  },
  {
   "cell_type": "code",
   "execution_count": 5,
   "metadata": {},
   "outputs": [
    {
     "data": {
      "text/plain": [
       "tensor([11.])"
      ]
     },
     "execution_count": 5,
     "metadata": {},
     "output_type": "execute_result"
    }
   ],
   "source": [
    "a"
   ]
  },
  {
   "cell_type": "code",
   "execution_count": 10,
   "metadata": {},
   "outputs": [
    {
     "data": {
      "text/plain": [
       "tensor([1., 1., 1., 1., 1., 1., 1., 1., 1., 1., 1., 1.])"
      ]
     },
     "execution_count": 10,
     "metadata": {},
     "output_type": "execute_result"
    }
   ],
   "source": [
    "from typing import Tuple, List\n",
    "from torch import Tensor\n",
    "\n",
    "@torch.jit.script\n",
    "def flatten(tsrs:List[Tensor]):\n",
    "    return torch.cat([tsr.flatten() for tsr in tsrs])\n",
    "\n",
    "def flatten_(tsrs:List[Tensor]):\n",
    "    return torch.cat([tsr.flatten() for tsr in tsrs])\n",
    "\n",
    "flatten([torch.ones((2,2)) for _ in range(3)])"
   ]
  },
  {
   "cell_type": "code",
   "execution_count": 11,
   "metadata": {},
   "outputs": [
    {
     "data": {
      "text/plain": [
       "tensor([1., 1., 1., 1., 1., 1., 1., 1., 1., 1., 1., 1.])"
      ]
     },
     "execution_count": 11,
     "metadata": {},
     "output_type": "execute_result"
    }
   ],
   "source": [
    "@torch.jit.script\n",
    "def flatten_detached(tsrs:List[Tensor]):\n",
    "    return torch.cat([tsr.detach().flatten() for tsr in tsrs])\n",
    "\n",
    "flatten_detached([torch.ones((2,2)) for _ in range(3)])"
   ]
  },
  {
   "cell_type": "code",
   "execution_count": null,
   "metadata": {},
   "outputs": [],
   "source": []
  }
 ],
 "metadata": {
  "kernelspec": {
   "display_name": "pl",
   "language": "python",
   "name": "python3"
  },
  "language_info": {
   "codemirror_mode": {
    "name": "ipython",
    "version": 3
   },
   "file_extension": ".py",
   "mimetype": "text/x-python",
   "name": "python",
   "nbconvert_exporter": "python",
   "pygments_lexer": "ipython3",
   "version": "3.9.17"
  }
 },
 "nbformat": 4,
 "nbformat_minor": 2
}
